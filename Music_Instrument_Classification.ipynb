{
  "nbformat": 4,
  "nbformat_minor": 0,
  "metadata": {
    "colab": {
      "provenance": [],
      "gpuType": "T4"
    },
    "kernelspec": {
      "name": "python3",
      "display_name": "Python 3"
    },
    "language_info": {
      "name": "python"
    },
    "accelerator": "GPU"
  },
  "cells": [
    {
      "cell_type": "markdown",
      "source": [
        "# Install relevant packages"
      ],
      "metadata": {
        "id": "6bgYhLM4swvT"
      }
    },
    {
      "cell_type": "code",
      "source": [
        "!pip3 install --upgrade tensorflow tensorflow-io librosa"
      ],
      "metadata": {
        "colab": {
          "base_uri": "https://localhost:8080/"
        },
        "id": "UrCRLNdo5AXz",
        "outputId": "b9229912-904b-443b-da4d-1099c879b5ce"
      },
      "execution_count": null,
      "outputs": [
        {
          "output_type": "stream",
          "name": "stdout",
          "text": [
            "Requirement already satisfied: tensorflow in /usr/local/lib/python3.10/dist-packages (2.15.0)\n",
            "Collecting tensorflow\n",
            "  Downloading tensorflow-2.15.0.post1-cp310-cp310-manylinux_2_17_x86_64.manylinux2014_x86_64.whl (475.2 MB)\n",
            "\u001b[2K     \u001b[90m━━━━━━━━━━━━━━━━━━━━━━━━━━━━━━━━━━━━━━━━\u001b[0m \u001b[32m475.2/475.2 MB\u001b[0m \u001b[31m3.4 MB/s\u001b[0m eta \u001b[36m0:00:00\u001b[0m\n",
            "\u001b[?25hCollecting tensorflow-io\n",
            "  Downloading tensorflow_io-0.36.0-cp310-cp310-manylinux_2_17_x86_64.manylinux2014_x86_64.whl (49.4 MB)\n",
            "\u001b[2K     \u001b[90m━━━━━━━━━━━━━━━━━━━━━━━━━━━━━━━━━━━━━━━━\u001b[0m \u001b[32m49.4/49.4 MB\u001b[0m \u001b[31m12.6 MB/s\u001b[0m eta \u001b[36m0:00:00\u001b[0m\n",
            "\u001b[?25hRequirement already satisfied: librosa in /usr/local/lib/python3.10/dist-packages (0.10.1)\n",
            "Requirement already satisfied: absl-py>=1.0.0 in /usr/local/lib/python3.10/dist-packages (from tensorflow) (1.4.0)\n",
            "Requirement already satisfied: astunparse>=1.6.0 in /usr/local/lib/python3.10/dist-packages (from tensorflow) (1.6.3)\n",
            "Requirement already satisfied: flatbuffers>=23.5.26 in /usr/local/lib/python3.10/dist-packages (from tensorflow) (23.5.26)\n",
            "Requirement already satisfied: gast!=0.5.0,!=0.5.1,!=0.5.2,>=0.2.1 in /usr/local/lib/python3.10/dist-packages (from tensorflow) (0.5.4)\n",
            "Requirement already satisfied: google-pasta>=0.1.1 in /usr/local/lib/python3.10/dist-packages (from tensorflow) (0.2.0)\n",
            "Requirement already satisfied: h5py>=2.9.0 in /usr/local/lib/python3.10/dist-packages (from tensorflow) (3.9.0)\n",
            "Requirement already satisfied: libclang>=13.0.0 in /usr/local/lib/python3.10/dist-packages (from tensorflow) (16.0.6)\n",
            "Requirement already satisfied: ml-dtypes~=0.2.0 in /usr/local/lib/python3.10/dist-packages (from tensorflow) (0.2.0)\n",
            "Requirement already satisfied: numpy<2.0.0,>=1.23.5 in /usr/local/lib/python3.10/dist-packages (from tensorflow) (1.23.5)\n",
            "Requirement already satisfied: opt-einsum>=2.3.2 in /usr/local/lib/python3.10/dist-packages (from tensorflow) (3.3.0)\n",
            "Requirement already satisfied: packaging in /usr/local/lib/python3.10/dist-packages (from tensorflow) (23.2)\n",
            "Requirement already satisfied: protobuf!=4.21.0,!=4.21.1,!=4.21.2,!=4.21.3,!=4.21.4,!=4.21.5,<5.0.0dev,>=3.20.3 in /usr/local/lib/python3.10/dist-packages (from tensorflow) (3.20.3)\n",
            "Requirement already satisfied: setuptools in /usr/local/lib/python3.10/dist-packages (from tensorflow) (67.7.2)\n",
            "Requirement already satisfied: six>=1.12.0 in /usr/local/lib/python3.10/dist-packages (from tensorflow) (1.16.0)\n",
            "Requirement already satisfied: termcolor>=1.1.0 in /usr/local/lib/python3.10/dist-packages (from tensorflow) (2.4.0)\n",
            "Requirement already satisfied: typing-extensions>=3.6.6 in /usr/local/lib/python3.10/dist-packages (from tensorflow) (4.9.0)\n",
            "Requirement already satisfied: wrapt<1.15,>=1.11.0 in /usr/local/lib/python3.10/dist-packages (from tensorflow) (1.14.1)\n",
            "Requirement already satisfied: tensorflow-io-gcs-filesystem>=0.23.1 in /usr/local/lib/python3.10/dist-packages (from tensorflow) (0.36.0)\n",
            "Requirement already satisfied: grpcio<2.0,>=1.24.3 in /usr/local/lib/python3.10/dist-packages (from tensorflow) (1.60.1)\n",
            "Requirement already satisfied: tensorboard<2.16,>=2.15 in /usr/local/lib/python3.10/dist-packages (from tensorflow) (2.15.1)\n",
            "Requirement already satisfied: tensorflow-estimator<2.16,>=2.15.0 in /usr/local/lib/python3.10/dist-packages (from tensorflow) (2.15.0)\n",
            "Requirement already satisfied: keras<2.16,>=2.15.0 in /usr/local/lib/python3.10/dist-packages (from tensorflow) (2.15.0)\n",
            "Requirement already satisfied: audioread>=2.1.9 in /usr/local/lib/python3.10/dist-packages (from librosa) (3.0.1)\n",
            "Requirement already satisfied: scipy>=1.2.0 in /usr/local/lib/python3.10/dist-packages (from librosa) (1.11.4)\n",
            "Requirement already satisfied: scikit-learn>=0.20.0 in /usr/local/lib/python3.10/dist-packages (from librosa) (1.2.2)\n",
            "Requirement already satisfied: joblib>=0.14 in /usr/local/lib/python3.10/dist-packages (from librosa) (1.3.2)\n",
            "Requirement already satisfied: decorator>=4.3.0 in /usr/local/lib/python3.10/dist-packages (from librosa) (4.4.2)\n",
            "Requirement already satisfied: numba>=0.51.0 in /usr/local/lib/python3.10/dist-packages (from librosa) (0.58.1)\n",
            "Requirement already satisfied: soundfile>=0.12.1 in /usr/local/lib/python3.10/dist-packages (from librosa) (0.12.1)\n",
            "Requirement already satisfied: pooch>=1.0 in /usr/local/lib/python3.10/dist-packages (from librosa) (1.8.0)\n",
            "Requirement already satisfied: soxr>=0.3.2 in /usr/local/lib/python3.10/dist-packages (from librosa) (0.3.7)\n",
            "Requirement already satisfied: lazy-loader>=0.1 in /usr/local/lib/python3.10/dist-packages (from librosa) (0.3)\n",
            "Requirement already satisfied: msgpack>=1.0 in /usr/local/lib/python3.10/dist-packages (from librosa) (1.0.7)\n",
            "Requirement already satisfied: wheel<1.0,>=0.23.0 in /usr/local/lib/python3.10/dist-packages (from astunparse>=1.6.0->tensorflow) (0.42.0)\n",
            "Requirement already satisfied: llvmlite<0.42,>=0.41.0dev0 in /usr/local/lib/python3.10/dist-packages (from numba>=0.51.0->librosa) (0.41.1)\n",
            "Requirement already satisfied: platformdirs>=2.5.0 in /usr/local/lib/python3.10/dist-packages (from pooch>=1.0->librosa) (4.2.0)\n",
            "Requirement already satisfied: requests>=2.19.0 in /usr/local/lib/python3.10/dist-packages (from pooch>=1.0->librosa) (2.31.0)\n",
            "Requirement already satisfied: threadpoolctl>=2.0.0 in /usr/local/lib/python3.10/dist-packages (from scikit-learn>=0.20.0->librosa) (3.2.0)\n",
            "Requirement already satisfied: cffi>=1.0 in /usr/local/lib/python3.10/dist-packages (from soundfile>=0.12.1->librosa) (1.16.0)\n",
            "Requirement already satisfied: google-auth<3,>=1.6.3 in /usr/local/lib/python3.10/dist-packages (from tensorboard<2.16,>=2.15->tensorflow) (2.17.3)\n",
            "Requirement already satisfied: google-auth-oauthlib<2,>=0.5 in /usr/local/lib/python3.10/dist-packages (from tensorboard<2.16,>=2.15->tensorflow) (1.2.0)\n",
            "Requirement already satisfied: markdown>=2.6.8 in /usr/local/lib/python3.10/dist-packages (from tensorboard<2.16,>=2.15->tensorflow) (3.5.2)\n",
            "Requirement already satisfied: tensorboard-data-server<0.8.0,>=0.7.0 in /usr/local/lib/python3.10/dist-packages (from tensorboard<2.16,>=2.15->tensorflow) (0.7.2)\n",
            "Requirement already satisfied: werkzeug>=1.0.1 in /usr/local/lib/python3.10/dist-packages (from tensorboard<2.16,>=2.15->tensorflow) (3.0.1)\n",
            "Requirement already satisfied: pycparser in /usr/local/lib/python3.10/dist-packages (from cffi>=1.0->soundfile>=0.12.1->librosa) (2.21)\n",
            "Requirement already satisfied: cachetools<6.0,>=2.0.0 in /usr/local/lib/python3.10/dist-packages (from google-auth<3,>=1.6.3->tensorboard<2.16,>=2.15->tensorflow) (5.3.2)\n",
            "Requirement already satisfied: pyasn1-modules>=0.2.1 in /usr/local/lib/python3.10/dist-packages (from google-auth<3,>=1.6.3->tensorboard<2.16,>=2.15->tensorflow) (0.3.0)\n",
            "Requirement already satisfied: rsa<5,>=3.1.4 in /usr/local/lib/python3.10/dist-packages (from google-auth<3,>=1.6.3->tensorboard<2.16,>=2.15->tensorflow) (4.9)\n",
            "Requirement already satisfied: requests-oauthlib>=0.7.0 in /usr/local/lib/python3.10/dist-packages (from google-auth-oauthlib<2,>=0.5->tensorboard<2.16,>=2.15->tensorflow) (1.3.1)\n",
            "Requirement already satisfied: charset-normalizer<4,>=2 in /usr/local/lib/python3.10/dist-packages (from requests>=2.19.0->pooch>=1.0->librosa) (3.3.2)\n",
            "Requirement already satisfied: idna<4,>=2.5 in /usr/local/lib/python3.10/dist-packages (from requests>=2.19.0->pooch>=1.0->librosa) (3.6)\n",
            "Requirement already satisfied: urllib3<3,>=1.21.1 in /usr/local/lib/python3.10/dist-packages (from requests>=2.19.0->pooch>=1.0->librosa) (2.0.7)\n",
            "Requirement already satisfied: certifi>=2017.4.17 in /usr/local/lib/python3.10/dist-packages (from requests>=2.19.0->pooch>=1.0->librosa) (2024.2.2)\n",
            "Requirement already satisfied: MarkupSafe>=2.1.1 in /usr/local/lib/python3.10/dist-packages (from werkzeug>=1.0.1->tensorboard<2.16,>=2.15->tensorflow) (2.1.5)\n",
            "Requirement already satisfied: pyasn1<0.6.0,>=0.4.6 in /usr/local/lib/python3.10/dist-packages (from pyasn1-modules>=0.2.1->google-auth<3,>=1.6.3->tensorboard<2.16,>=2.15->tensorflow) (0.5.1)\n",
            "Requirement already satisfied: oauthlib>=3.0.0 in /usr/local/lib/python3.10/dist-packages (from requests-oauthlib>=0.7.0->google-auth-oauthlib<2,>=0.5->tensorboard<2.16,>=2.15->tensorflow) (3.2.2)\n",
            "Installing collected packages: tensorflow-io, tensorflow\n",
            "  Attempting uninstall: tensorflow\n",
            "    Found existing installation: tensorflow 2.15.0\n",
            "    Uninstalling tensorflow-2.15.0:\n",
            "      Successfully uninstalled tensorflow-2.15.0\n",
            "Successfully installed tensorflow-2.15.0.post1 tensorflow-io-0.36.0\n"
          ]
        }
      ]
    },
    {
      "cell_type": "code",
      "source": [
        "import tensorflow as tf\n",
        "import tensorflow_io as tfio\n",
        "import numpy as np\n",
        "import pandas as pd\n",
        "import matplotlib as mpl\n",
        "import matplotlib.pyplot as plt\n",
        "import librosa\n",
        "import os\n",
        "import shutil\n",
        "tf.__version__"
      ],
      "metadata": {
        "colab": {
          "base_uri": "https://localhost:8080/",
          "height": 35
        },
        "id": "OSWii0se5sPs",
        "outputId": "7b080a9e-adc9-45bf-e40f-6e77a5fe0ebd"
      },
      "execution_count": null,
      "outputs": [
        {
          "output_type": "execute_result",
          "data": {
            "text/plain": [
              "'2.15.0'"
            ],
            "application/vnd.google.colaboratory.intrinsic+json": {
              "type": "string"
            }
          },
          "metadata": {},
          "execution_count": 2
        }
      ]
    },
    {
      "cell_type": "code",
      "source": [
        "tf.keras.utils.get_file(\"TinySOL\",origin=\"https://zenodo.org/records/3685367/files/TinySOL.tar.gz\",extract=True,cache_dir=\".\")\n",
        "tf.keras.utils.get_file(\"TinySOL_metadata.csv\",origin=\"https://zenodo.org/records/3685367/files/TinySOL_metadata.csv\",cache_dir=\".\")"
      ],
      "metadata": {
        "colab": {
          "base_uri": "https://localhost:8080/",
          "height": 105
        },
        "id": "R0eVPiYS5nYv",
        "outputId": "9951e6b3-06b6-4e39-b090-7e833fbc45c5"
      },
      "execution_count": null,
      "outputs": [
        {
          "output_type": "stream",
          "name": "stdout",
          "text": [
            "Downloading data from https://zenodo.org/records/3685367/files/TinySOL.tar.gz\n",
            "1026917185/1026917185 [==============================] - 60s 0us/step\n",
            "Downloading data from https://zenodo.org/records/3685367/files/TinySOL_metadata.csv\n",
            "317576/317576 [==============================] - 1s 3us/step\n"
          ]
        },
        {
          "output_type": "execute_result",
          "data": {
            "text/plain": [
              "'./datasets/TinySOL_metadata.csv'"
            ],
            "application/vnd.google.colaboratory.intrinsic+json": {
              "type": "string"
            }
          },
          "metadata": {},
          "execution_count": 3
        }
      ]
    },
    {
      "cell_type": "markdown",
      "source": [
        "# Load the dataset"
      ],
      "metadata": {
        "id": "qFzgu0CSi0wl"
      }
    },
    {
      "cell_type": "code",
      "source": [
        "audio_dir=\"datasets\"\n",
        "ds=pd.read_csv(os.path.join(audio_dir,\"TinySOL_metadata.csv\"))\n",
        "ds.head()"
      ],
      "metadata": {
        "id": "o8Fn2lhjwM1J",
        "colab": {
          "base_uri": "https://localhost:8080/",
          "height": 328
        },
        "outputId": "fa9d23a6-7083-408e-a8d2-7f44e1086794"
      },
      "execution_count": null,
      "outputs": [
        {
          "output_type": "execute_result",
          "data": {
            "text/plain": [
              "                                                Path  Fold Family  \\\n",
              "0   Brass/Bass_Tuba/ordinario/BTb-ord-F#1-pp-N-N.wav     2  Brass   \n",
              "1  Brass/Bass_Tuba/ordinario/BTb-ord-G1-pp-N-R100...     4  Brass   \n",
              "2  Brass/Bass_Tuba/ordinario/BTb-ord-G#1-pp-N-T16...     3  Brass   \n",
              "3  Brass/Bass_Tuba/ordinario/BTb-ord-A1-pp-N-T23d...     2  Brass   \n",
              "4   Brass/Bass_Tuba/ordinario/BTb-ord-A#1-pp-N-N.wav     0  Brass   \n",
              "\n",
              "  Instrument (abbr.) Instrument (in full) Technique (abbr.)  \\\n",
              "0                BTb            Bass Tuba               ord   \n",
              "1                BTb            Bass Tuba               ord   \n",
              "2                BTb            Bass Tuba               ord   \n",
              "3                BTb            Bass Tuba               ord   \n",
              "4                BTb            Bass Tuba               ord   \n",
              "\n",
              "  Technique (in full) Pitch  Pitch ID Dynamics  Dynamics ID  Instance ID  \\\n",
              "0           ordinario   F#1        30       pp            0            0   \n",
              "1           ordinario    G1        31       pp            0            0   \n",
              "2           ordinario   G#1        32       pp            0            0   \n",
              "3           ordinario    A1        33       pp            0            0   \n",
              "4           ordinario   A#1        34       pp            0            0   \n",
              "\n",
              "   String ID (if applicable)  Needed digital retuning  \n",
              "0                        NaN                    False  \n",
              "1                        NaN                     True  \n",
              "2                        NaN                     True  \n",
              "3                        NaN                     True  \n",
              "4                        NaN                    False  "
            ],
            "text/html": [
              "\n",
              "  <div id=\"df-9197ac64-7e9c-40c5-a994-58dc97b088ff\" class=\"colab-df-container\">\n",
              "    <div>\n",
              "<style scoped>\n",
              "    .dataframe tbody tr th:only-of-type {\n",
              "        vertical-align: middle;\n",
              "    }\n",
              "\n",
              "    .dataframe tbody tr th {\n",
              "        vertical-align: top;\n",
              "    }\n",
              "\n",
              "    .dataframe thead th {\n",
              "        text-align: right;\n",
              "    }\n",
              "</style>\n",
              "<table border=\"1\" class=\"dataframe\">\n",
              "  <thead>\n",
              "    <tr style=\"text-align: right;\">\n",
              "      <th></th>\n",
              "      <th>Path</th>\n",
              "      <th>Fold</th>\n",
              "      <th>Family</th>\n",
              "      <th>Instrument (abbr.)</th>\n",
              "      <th>Instrument (in full)</th>\n",
              "      <th>Technique (abbr.)</th>\n",
              "      <th>Technique (in full)</th>\n",
              "      <th>Pitch</th>\n",
              "      <th>Pitch ID</th>\n",
              "      <th>Dynamics</th>\n",
              "      <th>Dynamics ID</th>\n",
              "      <th>Instance ID</th>\n",
              "      <th>String ID (if applicable)</th>\n",
              "      <th>Needed digital retuning</th>\n",
              "    </tr>\n",
              "  </thead>\n",
              "  <tbody>\n",
              "    <tr>\n",
              "      <th>0</th>\n",
              "      <td>Brass/Bass_Tuba/ordinario/BTb-ord-F#1-pp-N-N.wav</td>\n",
              "      <td>2</td>\n",
              "      <td>Brass</td>\n",
              "      <td>BTb</td>\n",
              "      <td>Bass Tuba</td>\n",
              "      <td>ord</td>\n",
              "      <td>ordinario</td>\n",
              "      <td>F#1</td>\n",
              "      <td>30</td>\n",
              "      <td>pp</td>\n",
              "      <td>0</td>\n",
              "      <td>0</td>\n",
              "      <td>NaN</td>\n",
              "      <td>False</td>\n",
              "    </tr>\n",
              "    <tr>\n",
              "      <th>1</th>\n",
              "      <td>Brass/Bass_Tuba/ordinario/BTb-ord-G1-pp-N-R100...</td>\n",
              "      <td>4</td>\n",
              "      <td>Brass</td>\n",
              "      <td>BTb</td>\n",
              "      <td>Bass Tuba</td>\n",
              "      <td>ord</td>\n",
              "      <td>ordinario</td>\n",
              "      <td>G1</td>\n",
              "      <td>31</td>\n",
              "      <td>pp</td>\n",
              "      <td>0</td>\n",
              "      <td>0</td>\n",
              "      <td>NaN</td>\n",
              "      <td>True</td>\n",
              "    </tr>\n",
              "    <tr>\n",
              "      <th>2</th>\n",
              "      <td>Brass/Bass_Tuba/ordinario/BTb-ord-G#1-pp-N-T16...</td>\n",
              "      <td>3</td>\n",
              "      <td>Brass</td>\n",
              "      <td>BTb</td>\n",
              "      <td>Bass Tuba</td>\n",
              "      <td>ord</td>\n",
              "      <td>ordinario</td>\n",
              "      <td>G#1</td>\n",
              "      <td>32</td>\n",
              "      <td>pp</td>\n",
              "      <td>0</td>\n",
              "      <td>0</td>\n",
              "      <td>NaN</td>\n",
              "      <td>True</td>\n",
              "    </tr>\n",
              "    <tr>\n",
              "      <th>3</th>\n",
              "      <td>Brass/Bass_Tuba/ordinario/BTb-ord-A1-pp-N-T23d...</td>\n",
              "      <td>2</td>\n",
              "      <td>Brass</td>\n",
              "      <td>BTb</td>\n",
              "      <td>Bass Tuba</td>\n",
              "      <td>ord</td>\n",
              "      <td>ordinario</td>\n",
              "      <td>A1</td>\n",
              "      <td>33</td>\n",
              "      <td>pp</td>\n",
              "      <td>0</td>\n",
              "      <td>0</td>\n",
              "      <td>NaN</td>\n",
              "      <td>True</td>\n",
              "    </tr>\n",
              "    <tr>\n",
              "      <th>4</th>\n",
              "      <td>Brass/Bass_Tuba/ordinario/BTb-ord-A#1-pp-N-N.wav</td>\n",
              "      <td>0</td>\n",
              "      <td>Brass</td>\n",
              "      <td>BTb</td>\n",
              "      <td>Bass Tuba</td>\n",
              "      <td>ord</td>\n",
              "      <td>ordinario</td>\n",
              "      <td>A#1</td>\n",
              "      <td>34</td>\n",
              "      <td>pp</td>\n",
              "      <td>0</td>\n",
              "      <td>0</td>\n",
              "      <td>NaN</td>\n",
              "      <td>False</td>\n",
              "    </tr>\n",
              "  </tbody>\n",
              "</table>\n",
              "</div>\n",
              "    <div class=\"colab-df-buttons\">\n",
              "\n",
              "  <div class=\"colab-df-container\">\n",
              "    <button class=\"colab-df-convert\" onclick=\"convertToInteractive('df-9197ac64-7e9c-40c5-a994-58dc97b088ff')\"\n",
              "            title=\"Convert this dataframe to an interactive table.\"\n",
              "            style=\"display:none;\">\n",
              "\n",
              "  <svg xmlns=\"http://www.w3.org/2000/svg\" height=\"24px\" viewBox=\"0 -960 960 960\">\n",
              "    <path d=\"M120-120v-720h720v720H120Zm60-500h600v-160H180v160Zm220 220h160v-160H400v160Zm0 220h160v-160H400v160ZM180-400h160v-160H180v160Zm440 0h160v-160H620v160ZM180-180h160v-160H180v160Zm440 0h160v-160H620v160Z\"/>\n",
              "  </svg>\n",
              "    </button>\n",
              "\n",
              "  <style>\n",
              "    .colab-df-container {\n",
              "      display:flex;\n",
              "      gap: 12px;\n",
              "    }\n",
              "\n",
              "    .colab-df-convert {\n",
              "      background-color: #E8F0FE;\n",
              "      border: none;\n",
              "      border-radius: 50%;\n",
              "      cursor: pointer;\n",
              "      display: none;\n",
              "      fill: #1967D2;\n",
              "      height: 32px;\n",
              "      padding: 0 0 0 0;\n",
              "      width: 32px;\n",
              "    }\n",
              "\n",
              "    .colab-df-convert:hover {\n",
              "      background-color: #E2EBFA;\n",
              "      box-shadow: 0px 1px 2px rgba(60, 64, 67, 0.3), 0px 1px 3px 1px rgba(60, 64, 67, 0.15);\n",
              "      fill: #174EA6;\n",
              "    }\n",
              "\n",
              "    .colab-df-buttons div {\n",
              "      margin-bottom: 4px;\n",
              "    }\n",
              "\n",
              "    [theme=dark] .colab-df-convert {\n",
              "      background-color: #3B4455;\n",
              "      fill: #D2E3FC;\n",
              "    }\n",
              "\n",
              "    [theme=dark] .colab-df-convert:hover {\n",
              "      background-color: #434B5C;\n",
              "      box-shadow: 0px 1px 3px 1px rgba(0, 0, 0, 0.15);\n",
              "      filter: drop-shadow(0px 1px 2px rgba(0, 0, 0, 0.3));\n",
              "      fill: #FFFFFF;\n",
              "    }\n",
              "  </style>\n",
              "\n",
              "    <script>\n",
              "      const buttonEl =\n",
              "        document.querySelector('#df-9197ac64-7e9c-40c5-a994-58dc97b088ff button.colab-df-convert');\n",
              "      buttonEl.style.display =\n",
              "        google.colab.kernel.accessAllowed ? 'block' : 'none';\n",
              "\n",
              "      async function convertToInteractive(key) {\n",
              "        const element = document.querySelector('#df-9197ac64-7e9c-40c5-a994-58dc97b088ff');\n",
              "        const dataTable =\n",
              "          await google.colab.kernel.invokeFunction('convertToInteractive',\n",
              "                                                    [key], {});\n",
              "        if (!dataTable) return;\n",
              "\n",
              "        const docLinkHtml = 'Like what you see? Visit the ' +\n",
              "          '<a target=\"_blank\" href=https://colab.research.google.com/notebooks/data_table.ipynb>data table notebook</a>'\n",
              "          + ' to learn more about interactive tables.';\n",
              "        element.innerHTML = '';\n",
              "        dataTable['output_type'] = 'display_data';\n",
              "        await google.colab.output.renderOutput(dataTable, element);\n",
              "        const docLink = document.createElement('div');\n",
              "        docLink.innerHTML = docLinkHtml;\n",
              "        element.appendChild(docLink);\n",
              "      }\n",
              "    </script>\n",
              "  </div>\n",
              "\n",
              "\n",
              "<div id=\"df-d51bbd3e-c322-4a3f-bf41-33ab58169581\">\n",
              "  <button class=\"colab-df-quickchart\" onclick=\"quickchart('df-d51bbd3e-c322-4a3f-bf41-33ab58169581')\"\n",
              "            title=\"Suggest charts\"\n",
              "            style=\"display:none;\">\n",
              "\n",
              "<svg xmlns=\"http://www.w3.org/2000/svg\" height=\"24px\"viewBox=\"0 0 24 24\"\n",
              "     width=\"24px\">\n",
              "    <g>\n",
              "        <path d=\"M19 3H5c-1.1 0-2 .9-2 2v14c0 1.1.9 2 2 2h14c1.1 0 2-.9 2-2V5c0-1.1-.9-2-2-2zM9 17H7v-7h2v7zm4 0h-2V7h2v10zm4 0h-2v-4h2v4z\"/>\n",
              "    </g>\n",
              "</svg>\n",
              "  </button>\n",
              "\n",
              "<style>\n",
              "  .colab-df-quickchart {\n",
              "      --bg-color: #E8F0FE;\n",
              "      --fill-color: #1967D2;\n",
              "      --hover-bg-color: #E2EBFA;\n",
              "      --hover-fill-color: #174EA6;\n",
              "      --disabled-fill-color: #AAA;\n",
              "      --disabled-bg-color: #DDD;\n",
              "  }\n",
              "\n",
              "  [theme=dark] .colab-df-quickchart {\n",
              "      --bg-color: #3B4455;\n",
              "      --fill-color: #D2E3FC;\n",
              "      --hover-bg-color: #434B5C;\n",
              "      --hover-fill-color: #FFFFFF;\n",
              "      --disabled-bg-color: #3B4455;\n",
              "      --disabled-fill-color: #666;\n",
              "  }\n",
              "\n",
              "  .colab-df-quickchart {\n",
              "    background-color: var(--bg-color);\n",
              "    border: none;\n",
              "    border-radius: 50%;\n",
              "    cursor: pointer;\n",
              "    display: none;\n",
              "    fill: var(--fill-color);\n",
              "    height: 32px;\n",
              "    padding: 0;\n",
              "    width: 32px;\n",
              "  }\n",
              "\n",
              "  .colab-df-quickchart:hover {\n",
              "    background-color: var(--hover-bg-color);\n",
              "    box-shadow: 0 1px 2px rgba(60, 64, 67, 0.3), 0 1px 3px 1px rgba(60, 64, 67, 0.15);\n",
              "    fill: var(--button-hover-fill-color);\n",
              "  }\n",
              "\n",
              "  .colab-df-quickchart-complete:disabled,\n",
              "  .colab-df-quickchart-complete:disabled:hover {\n",
              "    background-color: var(--disabled-bg-color);\n",
              "    fill: var(--disabled-fill-color);\n",
              "    box-shadow: none;\n",
              "  }\n",
              "\n",
              "  .colab-df-spinner {\n",
              "    border: 2px solid var(--fill-color);\n",
              "    border-color: transparent;\n",
              "    border-bottom-color: var(--fill-color);\n",
              "    animation:\n",
              "      spin 1s steps(1) infinite;\n",
              "  }\n",
              "\n",
              "  @keyframes spin {\n",
              "    0% {\n",
              "      border-color: transparent;\n",
              "      border-bottom-color: var(--fill-color);\n",
              "      border-left-color: var(--fill-color);\n",
              "    }\n",
              "    20% {\n",
              "      border-color: transparent;\n",
              "      border-left-color: var(--fill-color);\n",
              "      border-top-color: var(--fill-color);\n",
              "    }\n",
              "    30% {\n",
              "      border-color: transparent;\n",
              "      border-left-color: var(--fill-color);\n",
              "      border-top-color: var(--fill-color);\n",
              "      border-right-color: var(--fill-color);\n",
              "    }\n",
              "    40% {\n",
              "      border-color: transparent;\n",
              "      border-right-color: var(--fill-color);\n",
              "      border-top-color: var(--fill-color);\n",
              "    }\n",
              "    60% {\n",
              "      border-color: transparent;\n",
              "      border-right-color: var(--fill-color);\n",
              "    }\n",
              "    80% {\n",
              "      border-color: transparent;\n",
              "      border-right-color: var(--fill-color);\n",
              "      border-bottom-color: var(--fill-color);\n",
              "    }\n",
              "    90% {\n",
              "      border-color: transparent;\n",
              "      border-bottom-color: var(--fill-color);\n",
              "    }\n",
              "  }\n",
              "</style>\n",
              "\n",
              "  <script>\n",
              "    async function quickchart(key) {\n",
              "      const quickchartButtonEl =\n",
              "        document.querySelector('#' + key + ' button');\n",
              "      quickchartButtonEl.disabled = true;  // To prevent multiple clicks.\n",
              "      quickchartButtonEl.classList.add('colab-df-spinner');\n",
              "      try {\n",
              "        const charts = await google.colab.kernel.invokeFunction(\n",
              "            'suggestCharts', [key], {});\n",
              "      } catch (error) {\n",
              "        console.error('Error during call to suggestCharts:', error);\n",
              "      }\n",
              "      quickchartButtonEl.classList.remove('colab-df-spinner');\n",
              "      quickchartButtonEl.classList.add('colab-df-quickchart-complete');\n",
              "    }\n",
              "    (() => {\n",
              "      let quickchartButtonEl =\n",
              "        document.querySelector('#df-d51bbd3e-c322-4a3f-bf41-33ab58169581 button');\n",
              "      quickchartButtonEl.style.display =\n",
              "        google.colab.kernel.accessAllowed ? 'block' : 'none';\n",
              "    })();\n",
              "  </script>\n",
              "</div>\n",
              "\n",
              "    </div>\n",
              "  </div>\n"
            ]
          },
          "metadata": {},
          "execution_count": 4
        }
      ]
    },
    {
      "cell_type": "code",
      "source": [
        "labels=ds[\"Instrument (in full)\"].unique()\n",
        "num_labels=len(labels)"
      ],
      "metadata": {
        "id": "i-LHDfP13sqa"
      },
      "execution_count": null,
      "outputs": []
    },
    {
      "cell_type": "code",
      "source": [
        "def get_mel(audio,sr):\n",
        "  mel=librosa.feature.melspectrogram(y=audio,sr=sr)\n",
        "  mel=librosa.power_to_db(mel,ref=np.max)\n",
        "\n",
        "  if mel.shape[1] > 128:\n",
        "    mel = mel[:, :128]\n",
        "  else:\n",
        "    padding = np.zeros((mel.shape[0], 128- mel.shape[1]))\n",
        "    mel = np.concatenate((mel, padding), axis=1)\n",
        "  mel=mel[...,np.newaxis]\n",
        "\n",
        "  return mel\n",
        "\n",
        "def audio_mapper(x):\n",
        "  file_path=os.path.join(audio_dir,x)\n",
        "  audio,sr=librosa.load(path=file_path,sr=44100)\n",
        "  return get_mel(audio,sr)"
      ],
      "metadata": {
        "id": "aPISm_fHr-G3"
      },
      "execution_count": null,
      "outputs": []
    },
    {
      "cell_type": "code",
      "source": [
        "from sklearn.model_selection import train_test_split\n",
        "\n",
        "x,y=ds[\"Path\"],ds[\"Instrument (in full)\"]\n",
        "x=np.array(list(map(audio_mapper,x)))\n",
        "y=np.array([np.where(labels==xi)[0][0] for xi in y])\n",
        "x_train,x_val,y_train,y_val=train_test_split(x,y,test_size=0.2,\n",
        "                                                 random_state=1)\n",
        "x_val,x_test,y_val,y_test=train_test_split(x_val,y_val,test_size=0.5,\n",
        "                                             random_state=1)"
      ],
      "metadata": {
        "id": "a9fsOFMb7BHt"
      },
      "execution_count": null,
      "outputs": []
    },
    {
      "cell_type": "code",
      "source": [
        "input_shape=x_train[0].shape"
      ],
      "metadata": {
        "id": "UM5iaPrBIuqI"
      },
      "execution_count": null,
      "outputs": []
    },
    {
      "cell_type": "code",
      "source": [
        "input_shape"
      ],
      "metadata": {
        "colab": {
          "base_uri": "https://localhost:8080/"
        },
        "id": "vdGOtHsbCR2Q",
        "outputId": "1dc137ec-08f3-44c0-a1e7-dc0c8c94aad3"
      },
      "execution_count": null,
      "outputs": [
        {
          "output_type": "execute_result",
          "data": {
            "text/plain": [
              "(128, 128, 1)"
            ]
          },
          "metadata": {},
          "execution_count": 9
        }
      ]
    },
    {
      "cell_type": "markdown",
      "source": [
        "# Define the Model"
      ],
      "metadata": {
        "id": "Bxq_uZsUi8q3"
      }
    },
    {
      "cell_type": "code",
      "source": [
        "def get_model():\n",
        "  normalization_layer=tf.keras.layers.Normalization()\n",
        "  normalization_layer.adapt(data=x_train)\n",
        "\n",
        "\n",
        "  model=tf.keras.models.Sequential(layers=(\n",
        "    tf.keras.layers.Input(shape=input_shape),\n",
        "    tf.keras.layers.Resizing(height=32,width=32),\n",
        "    normalization_layer,\n",
        "    tf.keras.layers.Conv2D(filters=32,\n",
        "                           kernel_size=3,\n",
        "                           activation=tf.keras.activations.relu),\n",
        "    tf.keras.layers.Conv2D(filters=64,\n",
        "                           kernel_size=3,\n",
        "                           activation=tf.keras.activations.relu),\n",
        "    tf.keras.layers.MaxPooling2D(),\n",
        "    tf.keras.layers.Dropout(rate=0.25),\n",
        "    tf.keras.layers.Flatten(),\n",
        "    tf.keras.layers.Dense(units=128, activation=tf.keras.activations.relu),\n",
        "    tf.keras.layers.Dropout(rate=0.5),\n",
        "    tf.keras.layers.Dense(units=num_labels,activation=tf.keras.activations.softmax)\n",
        "    ))\n",
        "\n",
        "  model.compile(\n",
        "    optimizer=tf.keras.optimizers.Nadam(),\n",
        "    loss=tf.keras.losses.SparseCategoricalCrossentropy(),\n",
        "    metrics=(\"acc\",)\n",
        "    )\n",
        "\n",
        "  return model"
      ],
      "metadata": {
        "id": "-cb2miA49L2X"
      },
      "execution_count": null,
      "outputs": []
    },
    {
      "cell_type": "code",
      "source": [
        "model=get_model()"
      ],
      "metadata": {
        "id": "3wlo9kzHtDS1"
      },
      "execution_count": null,
      "outputs": []
    },
    {
      "cell_type": "markdown",
      "source": [
        "# Define the callbacks"
      ],
      "metadata": {
        "id": "bpEXrVT3jHFA"
      }
    },
    {
      "cell_type": "code",
      "source": [
        "class OverFitMonCB(tf.keras.callbacks.Callback):\n",
        "    \"\"\"Monitor Overfitting.\"\"\"\n",
        "\n",
        "    def on_epoch_end(self, epoch, logs):\n",
        "        \"\"\"Print the loss ratio.\"\"\"\n",
        "        print(f\"\\tval_loss/loss: {logs['val_loss']/logs['loss']}\")\n",
        "\n",
        "\n",
        "TBOARD_ROOT_LOGDIR = \"artifacts/tboard/\"\n",
        "\n",
        "import time\n",
        "\n",
        "def get_tboard_logdir():\n",
        "    \"\"\"Get unique logdir name for each run.\"\"\"\n",
        "    run_id = time.strftime(\"run_%Y_%m_%d_%H_%M_%S\")\n",
        "\n",
        "    return os.path.join(TBOARD_ROOT_LOGDIR, run_id)"
      ],
      "metadata": {
        "id": "pRP4LjryGYuK"
      },
      "execution_count": null,
      "outputs": []
    },
    {
      "cell_type": "code",
      "source": [
        "cb_checkpoint = tf.keras.callbacks.ModelCheckpoint(\n",
        "        filepath=\"artifacts/models/\", save_best_only=True)\n",
        "cb_earlystop = tf.keras.callbacks.EarlyStopping(patience=5,\n",
        "                                                    restore_best_weights=True)\n",
        "cb_tboard = tf.keras.callbacks.TensorBoard(log_dir=get_tboard_logdir())\n",
        "callbacks = (cb_checkpoint, cb_earlystop, cb_tboard, OverFitMonCB())"
      ],
      "metadata": {
        "id": "xUbwOAEcGg2r"
      },
      "execution_count": null,
      "outputs": []
    },
    {
      "cell_type": "code",
      "source": [
        "BATCH_SIZE=64"
      ],
      "metadata": {
        "id": "mQouj2J7tY8Y"
      },
      "execution_count": null,
      "outputs": []
    },
    {
      "cell_type": "markdown",
      "source": [
        "# Train the model"
      ],
      "metadata": {
        "id": "xc1QxD0qvUv-"
      }
    },
    {
      "cell_type": "code",
      "source": [
        "history = model.fit(\n",
        "   x_train,y_train,batch_size=BATCH_SIZE,\n",
        "    validation_data=(x_val,y_val),\n",
        "    callbacks=callbacks,\n",
        "    epochs=30\n",
        ")"
      ],
      "metadata": {
        "colab": {
          "base_uri": "https://localhost:8080/"
        },
        "id": "D59eUxhpDn8_",
        "outputId": "53b1c686-5e73-46c3-e060-3c0a768e33c8"
      },
      "execution_count": null,
      "outputs": [
        {
          "output_type": "stream",
          "name": "stdout",
          "text": [
            "Epoch 1/30\n",
            "37/37 [==============================] - ETA: 0s - loss: 1.8049 - acc: 0.4288\tval_loss/loss: 0.5218105594480326\n",
            "37/37 [==============================] - 9s 60ms/step - loss: 1.8049 - acc: 0.4288 - val_loss: 0.9418 - val_acc: 0.7423\n",
            "Epoch 2/30\n",
            "37/37 [==============================] - ETA: 0s - loss: 0.9307 - acc: 0.7013\tval_loss/loss: 0.5398063390925738\n",
            "37/37 [==============================] - 1s 35ms/step - loss: 0.9307 - acc: 0.7013 - val_loss: 0.5024 - val_acc: 0.8351\n",
            "Epoch 3/30\n",
            "37/37 [==============================] - ETA: 0s - loss: 0.6175 - acc: 0.7987\tval_loss/loss: 0.5668621009103985\n",
            "37/37 [==============================] - 1s 36ms/step - loss: 0.6175 - acc: 0.7987 - val_loss: 0.3501 - val_acc: 0.8935\n",
            "Epoch 4/30\n",
            "36/37 [============================>.] - ETA: 0s - loss: 0.4804 - acc: 0.8398\tval_loss/loss: 0.5554079138386708\n",
            "37/37 [==============================] - 2s 44ms/step - loss: 0.4804 - acc: 0.8399 - val_loss: 0.2668 - val_acc: 0.9175\n",
            "Epoch 5/30\n",
            "31/37 [========================>.....] - ETA: 0s - loss: 0.3943 - acc: 0.8684\tval_loss/loss: 0.592090566076849\n",
            "37/37 [==============================] - 1s 36ms/step - loss: 0.3910 - acc: 0.8708 - val_loss: 0.2315 - val_acc: 0.9244\n",
            "Epoch 6/30\n",
            "37/37 [==============================] - ETA: 0s - loss: 0.3156 - acc: 0.8897\tval_loss/loss: 0.6789297038270028\n",
            "37/37 [==============================] - 1s 35ms/step - loss: 0.3156 - acc: 0.8897 - val_loss: 0.2143 - val_acc: 0.9107\n",
            "Epoch 7/30\n",
            "36/37 [============================>.] - ETA: 0s - loss: 0.2897 - acc: 0.9032\tval_loss/loss: 0.6282446865908132\n",
            "37/37 [==============================] - 2s 43ms/step - loss: 0.2908 - acc: 0.9021 - val_loss: 0.1827 - val_acc: 0.9381\n",
            "Epoch 8/30\n",
            "36/37 [============================>.] - ETA: 0s - loss: 0.2278 - acc: 0.9214\tval_loss/loss: 0.6935293813974455\n",
            "37/37 [==============================] - 2s 44ms/step - loss: 0.2283 - acc: 0.9215 - val_loss: 0.1583 - val_acc: 0.9553\n",
            "Epoch 9/30\n",
            "36/37 [============================>.] - ETA: 0s - loss: 0.2081 - acc: 0.9306\tval_loss/loss: 0.6465110527120463\n",
            "37/37 [==============================] - 1s 36ms/step - loss: 0.2065 - acc: 0.9309 - val_loss: 0.1335 - val_acc: 0.9622\n",
            "Epoch 10/30\n",
            "35/37 [===========================>..] - ETA: 0s - loss: 0.1843 - acc: 0.9339\tval_loss/loss: 0.9660312556297169\n",
            "37/37 [==============================] - 0s 13ms/step - loss: 0.1868 - acc: 0.9335 - val_loss: 0.1804 - val_acc: 0.9416\n",
            "Epoch 11/30\n",
            "33/37 [=========================>....] - ETA: 0s - loss: 0.1830 - acc: 0.9389\tval_loss/loss: 0.8388883154906768\n",
            "37/37 [==============================] - 1s 17ms/step - loss: 0.1793 - acc: 0.9416 - val_loss: 0.1504 - val_acc: 0.9519\n",
            "Epoch 12/30\n",
            "34/37 [==========================>...] - ETA: 0s - loss: 0.1694 - acc: 0.9407\tval_loss/loss: 0.7147024056611336\n",
            "37/37 [==============================] - 3s 74ms/step - loss: 0.1673 - acc: 0.9416 - val_loss: 0.1196 - val_acc: 0.9553\n",
            "Epoch 13/30\n",
            "35/37 [===========================>..] - ETA: 0s - loss: 0.1524 - acc: 0.9491\tval_loss/loss: 0.9719319498417948\n",
            "37/37 [==============================] - 1s 20ms/step - loss: 0.1521 - acc: 0.9489 - val_loss: 0.1478 - val_acc: 0.9519\n",
            "Epoch 14/30\n",
            "35/37 [===========================>..] - ETA: 0s - loss: 0.1297 - acc: 0.9558\tval_loss/loss: 1.186604829274449\n",
            "37/37 [==============================] - 1s 19ms/step - loss: 0.1311 - acc: 0.9545 - val_loss: 0.1555 - val_acc: 0.9381\n",
            "Epoch 15/30\n",
            "37/37 [==============================] - ETA: 0s - loss: 0.1183 - acc: 0.9562\tval_loss/loss: 1.037144184960602\n",
            "37/37 [==============================] - 1s 19ms/step - loss: 0.1183 - acc: 0.9562 - val_loss: 0.1227 - val_acc: 0.9553\n",
            "Epoch 16/30\n",
            "32/37 [========================>.....] - ETA: 0s - loss: 0.1206 - acc: 0.9590\tval_loss/loss: 0.9642965853977665\n",
            "37/37 [==============================] - 1s 36ms/step - loss: 0.1230 - acc: 0.9588 - val_loss: 0.1186 - val_acc: 0.9553\n",
            "Epoch 17/30\n",
            "36/37 [============================>.] - ETA: 0s - loss: 0.1097 - acc: 0.9644\tval_loss/loss: 1.054820778667774\n",
            "37/37 [==============================] - 1s 40ms/step - loss: 0.1097 - acc: 0.9644 - val_loss: 0.1157 - val_acc: 0.9622\n",
            "Epoch 18/30\n",
            "37/37 [==============================] - ETA: 0s - loss: 0.1001 - acc: 0.9605\tval_loss/loss: 1.2675661831107237\n",
            "37/37 [==============================] - 1s 14ms/step - loss: 0.1001 - acc: 0.9605 - val_loss: 0.1269 - val_acc: 0.9588\n",
            "Epoch 19/30\n",
            "36/37 [============================>.] - ETA: 0s - loss: 0.1017 - acc: 0.9661\tval_loss/loss: 0.97360876085713\n",
            "37/37 [==============================] - 2s 54ms/step - loss: 0.1024 - acc: 0.9657 - val_loss: 0.0996 - val_acc: 0.9691\n",
            "Epoch 20/30\n",
            "33/37 [=========================>....] - ETA: 0s - loss: 0.1068 - acc: 0.9607\tval_loss/loss: 0.9036730340842306\n",
            "37/37 [==============================] - 1s 35ms/step - loss: 0.1033 - acc: 0.9622 - val_loss: 0.0933 - val_acc: 0.9553\n",
            "Epoch 21/30\n",
            "36/37 [============================>.] - ETA: 0s - loss: 0.0820 - acc: 0.9731\tval_loss/loss: 1.241700614947468\n",
            "37/37 [==============================] - 0s 11ms/step - loss: 0.0842 - acc: 0.9725 - val_loss: 0.1046 - val_acc: 0.9519\n",
            "Epoch 22/30\n",
            "36/37 [============================>.] - ETA: 0s - loss: 0.1092 - acc: 0.9648\tval_loss/loss: 0.9668516826899164\n",
            "37/37 [==============================] - 0s 11ms/step - loss: 0.1086 - acc: 0.9652 - val_loss: 0.1050 - val_acc: 0.9553\n",
            "Epoch 23/30\n",
            "37/37 [==============================] - ETA: 0s - loss: 0.0776 - acc: 0.9738\tval_loss/loss: 1.2302924729105604\n",
            "37/37 [==============================] - 0s 11ms/step - loss: 0.0776 - acc: 0.9738 - val_loss: 0.0955 - val_acc: 0.9691\n",
            "Epoch 24/30\n",
            "37/37 [==============================] - ETA: 0s - loss: 0.0772 - acc: 0.9730\tval_loss/loss: 1.4784833457182152\n",
            "37/37 [==============================] - 0s 11ms/step - loss: 0.0772 - acc: 0.9730 - val_loss: 0.1142 - val_acc: 0.9656\n",
            "Epoch 25/30\n",
            "36/37 [============================>.] - ETA: 0s - loss: 0.0949 - acc: 0.9718\tval_loss/loss: 1.3458661464616568\n",
            "37/37 [==============================] - 0s 11ms/step - loss: 0.0946 - acc: 0.9717 - val_loss: 0.1273 - val_acc: 0.9553\n"
          ]
        }
      ]
    },
    {
      "cell_type": "markdown",
      "source": [
        "# Evaluate model"
      ],
      "metadata": {
        "id": "Sz0FLt16jT7d"
      }
    },
    {
      "cell_type": "code",
      "source": [
        "model.evaluate(x_test,y_test)"
      ],
      "metadata": {
        "colab": {
          "base_uri": "https://localhost:8080/"
        },
        "id": "5XX4uE89tiqN",
        "outputId": "56d84f23-7b5f-4608-d645-03c2a3155b51"
      },
      "execution_count": null,
      "outputs": [
        {
          "output_type": "stream",
          "name": "stdout",
          "text": [
            "10/10 [==============================] - 1s 42ms/step - loss: 0.0928 - acc: 0.9658\n"
          ]
        },
        {
          "output_type": "execute_result",
          "data": {
            "text/plain": [
              "[0.09280262887477875, 0.965753436088562]"
            ]
          },
          "metadata": {},
          "execution_count": 16
        }
      ]
    },
    {
      "cell_type": "code",
      "source": [
        "def predict(x):\n",
        "  x=tf.ensure_shape(x,(None,128,128,1))\n",
        "  return tf.argmax(model.predict(x),axis=-1)"
      ],
      "metadata": {
        "id": "GvIQYuELtlbf"
      },
      "execution_count": null,
      "outputs": []
    },
    {
      "cell_type": "code",
      "source": [
        "predict(x_train[0][np.newaxis,...]),y_train[0]"
      ],
      "metadata": {
        "colab": {
          "base_uri": "https://localhost:8080/"
        },
        "id": "7qH0ufCvtoG2",
        "outputId": "6c53fc0e-ecfb-476a-f3e5-0888b589b921"
      },
      "execution_count": null,
      "outputs": [
        {
          "output_type": "stream",
          "name": "stdout",
          "text": [
            "1/1 [==============================] - 0s 471ms/step\n"
          ]
        },
        {
          "output_type": "execute_result",
          "data": {
            "text/plain": [
              "(<tf.Tensor: shape=(1,), dtype=int64, numpy=array([5])>, 5)"
            ]
          },
          "metadata": {},
          "execution_count": 18
        }
      ]
    },
    {
      "cell_type": "markdown",
      "source": [
        "# Create Custom Pseudo Dataset Class"
      ],
      "metadata": {
        "id": "gpgkjyn4jZSi"
      }
    },
    {
      "cell_type": "code",
      "source": [
        "class GeneralDS:\n",
        "  def __init__(self,metadata_csv_path,audio_dir_path):\n",
        "    self.metadata_csv_path=metadata_csv_path\n",
        "    self.audio_dir_path=audio_dir_path\n",
        "    self.metadata=pd.read_csv(metadata_csv_path)\n",
        "\n",
        "  def __getitem__(self,i):\n",
        "    d={}\n",
        "    item=self.metadata.iloc[i]\n",
        "    d[\"file\"]= os.path.basename(item[\"Path\"])\n",
        "    file_path= os.path.join(self.audio_dir_path,item[\"Path\"])\n",
        "    audio,sr=librosa.load(path=file_path,sr=44100)\n",
        "    d[\"audio\"]=audio[tf.newaxis,:]\n",
        "    d[\"mel\"]=get_mel(audio,sr)\n",
        "    d[\"gt\"]=item[\"Instrument (in full)\"]\n",
        "    d[\"pseudo\"] = predict(d[\"mel\"])\n",
        "\n",
        "    return d\n",
        "\n",
        "  def __len__(self):\n",
        "      return len(self.metadata)"
      ],
      "metadata": {
        "id": "8TBEqZovVXGE"
      },
      "execution_count": null,
      "outputs": []
    },
    {
      "cell_type": "code",
      "source": [
        "g_ds=GeneralDS(\"datasets/TinySOL_metadata.csv\",audio_dir)\n",
        "pseudo_y_train=predict(x_train)"
      ],
      "metadata": {
        "colab": {
          "base_uri": "https://localhost:8080/"
        },
        "id": "ehcNMA7cuL32",
        "outputId": "707e0b38-57f3-4b42-953f-24b2f5ac561b"
      },
      "execution_count": null,
      "outputs": [
        {
          "output_type": "stream",
          "name": "stdout",
          "text": [
            "73/73 [==============================] - 1s 6ms/step\n"
          ]
        }
      ]
    },
    {
      "cell_type": "markdown",
      "source": [
        "# Train the model on pseudo labels"
      ],
      "metadata": {
        "id": "r0VW8UfbvdHR"
      }
    },
    {
      "cell_type": "code",
      "source": [
        "model_p=get_model()"
      ],
      "metadata": {
        "id": "0Jl4SpEbuPPn"
      },
      "execution_count": null,
      "outputs": []
    },
    {
      "cell_type": "code",
      "source": [
        "history_p = model_p.fit(\n",
        "   x_train,pseudo_y_train,batch_size=BATCH_SIZE,\n",
        "    validation_data=(x_val,y_val),\n",
        "    callbacks=callbacks,\n",
        "    epochs=30\n",
        ")"
      ],
      "metadata": {
        "colab": {
          "base_uri": "https://localhost:8080/"
        },
        "id": "cmbhTyC_uW1s",
        "outputId": "d31b9e5a-d32f-4842-eeda-15829167ada3"
      },
      "execution_count": null,
      "outputs": [
        {
          "output_type": "stream",
          "name": "stdout",
          "text": [
            "Epoch 1/30\n",
            "37/37 [==============================] - ETA: 0s - loss: 1.8437 - acc: 0.4172\tval_loss/loss: 0.5766813705126734\n",
            "37/37 [==============================] - 2s 17ms/step - loss: 1.8437 - acc: 0.4172 - val_loss: 1.0633 - val_acc: 0.6873\n",
            "Epoch 2/30\n",
            "34/37 [==========================>...] - ETA: 0s - loss: 1.0275 - acc: 0.6691\tval_loss/loss: 0.5569666474584503\n",
            "37/37 [==============================] - 1s 14ms/step - loss: 1.0083 - acc: 0.6747 - val_loss: 0.5616 - val_acc: 0.7973\n",
            "Epoch 3/30\n",
            "36/37 [============================>.] - ETA: 0s - loss: 0.6812 - acc: 0.7778\tval_loss/loss: 0.5240221805113429\n",
            "37/37 [==============================] - 1s 14ms/step - loss: 0.6784 - acc: 0.7781 - val_loss: 0.3555 - val_acc: 0.8660\n",
            "Epoch 4/30\n",
            "37/37 [==============================] - ETA: 0s - loss: 0.5133 - acc: 0.8275\tval_loss/loss: 0.5874270294309065\n",
            "37/37 [==============================] - 1s 15ms/step - loss: 0.5133 - acc: 0.8275 - val_loss: 0.3015 - val_acc: 0.9210\n",
            "Epoch 5/30\n",
            "34/37 [==========================>...] - ETA: 0s - loss: 0.3985 - acc: 0.8699\tval_loss/loss: 0.5989685389458608\n",
            "37/37 [==============================] - 1s 14ms/step - loss: 0.3955 - acc: 0.8704 - val_loss: 0.2369 - val_acc: 0.9278\n",
            "Epoch 6/30\n",
            "35/37 [===========================>..] - ETA: 0s - loss: 0.3504 - acc: 0.8790\tval_loss/loss: 0.5984066125472821\n",
            "37/37 [==============================] - 0s 12ms/step - loss: 0.3499 - acc: 0.8794 - val_loss: 0.2094 - val_acc: 0.9278\n",
            "Epoch 7/30\n",
            "37/37 [==============================] - ETA: 0s - loss: 0.2644 - acc: 0.9120\tval_loss/loss: 0.8633501306993981\n",
            "37/37 [==============================] - 0s 10ms/step - loss: 0.2644 - acc: 0.9120 - val_loss: 0.2283 - val_acc: 0.9278\n",
            "Epoch 8/30\n",
            "31/37 [========================>.....] - ETA: 0s - loss: 0.2361 - acc: 0.9244\tval_loss/loss: 0.6320991329979664\n",
            "37/37 [==============================] - 0s 10ms/step - loss: 0.2374 - acc: 0.9240 - val_loss: 0.1501 - val_acc: 0.9588\n",
            "Epoch 9/30\n",
            "31/37 [========================>.....] - ETA: 0s - loss: 0.2232 - acc: 0.9254\tval_loss/loss: 0.5822583542220463\n",
            "37/37 [==============================] - 0s 11ms/step - loss: 0.2291 - acc: 0.9245 - val_loss: 0.1334 - val_acc: 0.9588\n",
            "Epoch 10/30\n",
            "37/37 [==============================] - ETA: 0s - loss: 0.1878 - acc: 0.9356\tval_loss/loss: 0.6707912155251229\n",
            "37/37 [==============================] - 0s 12ms/step - loss: 0.1878 - acc: 0.9356 - val_loss: 0.1260 - val_acc: 0.9485\n",
            "Epoch 11/30\n",
            "35/37 [===========================>..] - ETA: 0s - loss: 0.1710 - acc: 0.9397\tval_loss/loss: 0.784046070729605\n",
            "37/37 [==============================] - 0s 12ms/step - loss: 0.1709 - acc: 0.9395 - val_loss: 0.1340 - val_acc: 0.9553\n",
            "Epoch 12/30\n",
            "31/37 [========================>.....] - ETA: 0s - loss: 0.1499 - acc: 0.9496\tval_loss/loss: 1.0211214860797886\n",
            "37/37 [==============================] - 0s 11ms/step - loss: 0.1473 - acc: 0.9506 - val_loss: 0.1504 - val_acc: 0.9485\n",
            "Epoch 13/30\n",
            "36/37 [============================>.] - ETA: 0s - loss: 0.1489 - acc: 0.9505\tval_loss/loss: 0.9080241346753377\n",
            "37/37 [==============================] - 0s 12ms/step - loss: 0.1493 - acc: 0.9502 - val_loss: 0.1355 - val_acc: 0.9588\n",
            "Epoch 14/30\n",
            "37/37 [==============================] - ETA: 0s - loss: 0.1321 - acc: 0.9605\tval_loss/loss: 1.0974092250644836\n",
            "37/37 [==============================] - 0s 11ms/step - loss: 0.1321 - acc: 0.9605 - val_loss: 0.1449 - val_acc: 0.9313\n",
            "Epoch 15/30\n",
            "37/37 [==============================] - ETA: 0s - loss: 0.1279 - acc: 0.9498\tval_loss/loss: 0.9735614298868938\n",
            "37/37 [==============================] - 0s 12ms/step - loss: 0.1279 - acc: 0.9498 - val_loss: 0.1245 - val_acc: 0.9450\n",
            "Epoch 16/30\n",
            "37/37 [==============================] - ETA: 0s - loss: 0.1098 - acc: 0.9614\tval_loss/loss: 1.2311042145579831\n",
            "37/37 [==============================] - 0s 10ms/step - loss: 0.1098 - acc: 0.9614 - val_loss: 0.1352 - val_acc: 0.9519\n",
            "Epoch 17/30\n",
            "37/37 [==============================] - ETA: 0s - loss: 0.1110 - acc: 0.9627\tval_loss/loss: 0.7351420566970526\n",
            "37/37 [==============================] - 1s 35ms/step - loss: 0.1110 - acc: 0.9627 - val_loss: 0.0816 - val_acc: 0.9656\n",
            "Epoch 18/30\n",
            "37/37 [==============================] - ETA: 0s - loss: 0.0982 - acc: 0.9670\tval_loss/loss: 1.1968271005098048\n",
            "37/37 [==============================] - 0s 11ms/step - loss: 0.0982 - acc: 0.9670 - val_loss: 0.1175 - val_acc: 0.9553\n",
            "Epoch 19/30\n",
            "36/37 [============================>.] - ETA: 0s - loss: 0.0995 - acc: 0.9666\tval_loss/loss: 0.925445089699856\n",
            "37/37 [==============================] - 0s 11ms/step - loss: 0.0988 - acc: 0.9670 - val_loss: 0.0914 - val_acc: 0.9622\n",
            "Epoch 20/30\n",
            "37/37 [==============================] - ETA: 0s - loss: 0.0696 - acc: 0.9790\tval_loss/loss: 1.826419209415643\n",
            "37/37 [==============================] - 0s 10ms/step - loss: 0.0696 - acc: 0.9790 - val_loss: 0.1271 - val_acc: 0.9519\n",
            "Epoch 21/30\n",
            "37/37 [==============================] - ETA: 0s - loss: 0.0821 - acc: 0.9704\tval_loss/loss: 1.3546273903720112\n",
            "37/37 [==============================] - 0s 10ms/step - loss: 0.0821 - acc: 0.9704 - val_loss: 0.1112 - val_acc: 0.9553\n",
            "Epoch 22/30\n",
            "31/37 [========================>.....] - ETA: 0s - loss: 0.0874 - acc: 0.9728\tval_loss/loss: 1.1218979555320565\n",
            "37/37 [==============================] - 0s 10ms/step - loss: 0.0924 - acc: 0.9700 - val_loss: 0.1037 - val_acc: 0.9519\n"
          ]
        }
      ]
    },
    {
      "cell_type": "code",
      "source": [
        "model_p.evaluate(x_test,y_test)"
      ],
      "metadata": {
        "colab": {
          "base_uri": "https://localhost:8080/"
        },
        "id": "WlxbGXlMup_d",
        "outputId": "2f14279c-f8eb-493d-b0e0-74b151d9dc76"
      },
      "execution_count": null,
      "outputs": [
        {
          "output_type": "stream",
          "name": "stdout",
          "text": [
            "10/10 [==============================] - 0s 4ms/step - loss: 0.0827 - acc: 0.9692\n"
          ]
        },
        {
          "output_type": "execute_result",
          "data": {
            "text/plain": [
              "[0.08267240971326828, 0.9691780805587769]"
            ]
          },
          "metadata": {},
          "execution_count": 23
        }
      ]
    },
    {
      "cell_type": "markdown",
      "source": [
        "# Plot metrics"
      ],
      "metadata": {
        "id": "qAtqkIw6jNRk"
      }
    },
    {
      "cell_type": "code",
      "source": [
        "metrics=history.history\n",
        "metrics_p=history_p.history\n",
        "plt.figure(figsize=(16,6))\n",
        "plt.subplot(1,2,1)\n",
        "plt.plot(history.epoch, metrics[\"loss\"], metrics[\"val_loss\"])\n",
        "plt.plot(history_p.epoch,metrics_p[\"loss\"],metrics_p[\"val_loss\"])\n",
        "plt.legend([\"loss\", \"val_loss\", \"loss (pseudo)\", \"val_loss (pseudo)\"])\n",
        "plt.ylim([0, max(plt.ylim())])\n",
        "plt.xlabel(\"Epoch\")\n",
        "plt.ylabel(\"Loss [CrossEntropy]\")\n",
        "\n",
        "plt.subplot(1,2,2)\n",
        "plt.plot(history.epoch,\n",
        "         100*np.array(metrics[\"acc\"]),\n",
        "         100*np.array(metrics[\"val_acc\"]))\n",
        "plt.plot(history_p.epoch,\n",
        "         100*np.array(metrics_p[\"acc\"]),\n",
        "         100*np.array(metrics_p[\"val_acc\"]))\n",
        "plt.legend([\"accuracy\", \"val_accuracy\", \"accuracy (pseudo)\", \"val_accuracy (pseudo)\"])\n",
        "plt.ylim([0, 100])\n",
        "plt.xlabel(\"Epoch\")\n",
        "plt.ylabel(\"Accuracy [%]\")"
      ],
      "metadata": {
        "colab": {
          "base_uri": "https://localhost:8080/",
          "height": 564
        },
        "id": "uqWB_IYLbw-m",
        "outputId": "04ee4559-6670-47e0-ac74-6cb97e6c3eca"
      },
      "execution_count": null,
      "outputs": [
        {
          "output_type": "execute_result",
          "data": {
            "text/plain": [
              "Text(0, 0.5, 'Accuracy [%]')"
            ]
          },
          "metadata": {},
          "execution_count": 24
        },
        {
          "output_type": "display_data",
          "data": {
            "text/plain": [
              "<Figure size 1600x600 with 2 Axes>"
            ],
            "image/png": "[encoded data removed]"
          },
          "metadata": {}
        }
      ]
    },
    {
      "cell_type": "code",
      "source": [
        "src_dir=\"datasets\"\n",
        "ds_dir=\"dset\"\n",
        "for f_name in os.listdir(src_dir):\n",
        "  fam_path=os.path.join(src_dir,f_name)\n",
        "  if not os.path.isdir(fam_path):\n",
        "     continue\n",
        "  for class_name in os.listdir(fam_path):\n",
        "    shutil.copytree(os.path.join(fam_path,class_name,\"ordinario\"),os.path.join(\"dset\",class_name))"
      ],
      "metadata": {
        "id": "YFHEM38O96KY"
      },
      "execution_count": null,
      "outputs": []
    },
    {
      "cell_type": "code",
      "source": [
        "train_ds , val_ds = tf.keras.utils.audio_dataset_from_directory(\n",
        "    directory=ds_dir,\n",
        "    #output_sequence_length=,\n",
        "    batch_size=32,\n",
        "    seed=0,\n",
        "    validation_split=0.2,\n",
        "    subset=\"both\"\n",
        "    )\n",
        "\n",
        "num_labels=len(train_ds.class_names)\n",
        "\n",
        "def squeeze(audio, labels):\n",
        "  audio = tf.squeeze(audio, axis=-1)\n",
        "  return audio, labels\n",
        "\n",
        "train_ds = train_ds.map(squeeze, tf.data.AUTOTUNE)\n",
        "val_ds = val_ds.map(squeeze, tf.data.AUTOTUNE)\n",
        "\n",
        "val_ds = val_ds.shard(num_shards=2, index=0)\n",
        "test_ds = val_ds.shard(num_shards=2, index=1)"
      ],
      "metadata": {
        "id": "9a6tmXlm4-9e",
        "colab": {
          "base_uri": "https://localhost:8080/"
        },
        "outputId": "cefa0851-83ea-4cf0-b770-ec18a00cd6c3"
      },
      "execution_count": null,
      "outputs": [
        {
          "output_type": "stream",
          "name": "stdout",
          "text": [
            "Found 2913 files belonging to 14 classes.\n",
            "Using 2331 files for training.\n",
            "Using 582 files for validation.\n"
          ]
        }
      ]
    },
    {
      "cell_type": "code",
      "source": [
        "def get_spectrogram(x):\n",
        "  spectrogram=tf.abs(tf.signal.stft(x,frame_length=255,frame_step=128))\n",
        "  return spectrogram[...,tf.newaxis]\n",
        "\n",
        "def make_spectrogram_ds(ds):\n",
        "  return ds.map(\n",
        "      map_func=lambda x,y: (get_spectrogram(x), y),\n",
        "      num_parallel_calls=tf.data.AUTOTUNE)\n",
        "\n",
        "train_spectrogram_ds = make_spectrogram_ds(train_ds)\n",
        "val_spectrogram_ds = make_spectrogram_ds(val_ds)\n",
        "test_spectrogram_ds = make_spectrogram_ds(test_ds)"
      ],
      "metadata": {
        "id": "iIGmryNp7WT3"
      },
      "execution_count": null,
      "outputs": []
    },
    {
      "cell_type": "code",
      "source": [
        "train_spectrogram_ds = train_spectrogram_ds.cache().shuffle(10000).prefetch(tf.data.AUTOTUNE)\n",
        "val_spectrogram_ds = val_spectrogram_ds.cache().prefetch(tf.data.AUTOTUNE)\n",
        "test_spectrogram_ds = test_spectrogram_ds.cache().prefetch(tf.data.AUTOTUNE)"
      ],
      "metadata": {
        "id": "5iuZ1LiF8Ioo"
      },
      "execution_count": null,
      "outputs": []
    },
    {
      "cell_type": "code",
      "source": [
        "general_ds=tf.data.experimental.make_csv_dataset(\n",
        "    file_pattern=os.path.join(\"datasets\",\"TinySOL_metadata.csv\"),\n",
        "    batch_size=1,\n",
        "    label_name=\"Instrument (in full)\",\n",
        "    num_epochs=1\n",
        "    )\n",
        "\n",
        "#general_ds=tf.data.Dataset.from_tensor_slices(dict(ds))\n",
        "\n",
        "def deconstruct(x,l):\n",
        "  return x[\"Path\"],l\n",
        "\n",
        "\n",
        "@tf.py_function(Tout=[tf.float32,tf.int32])\n",
        "def audio_mapper(item,l):\n",
        "  file_path=os.path.join(audio_dir,item.numpy()[0].decode(\"utf-8\"))\n",
        "  audio,sr=librosa.load(path=file_path,sr=44100)\n",
        "  mel=librosa.feature.melspectrogram(y=audio,sr=sr)\n",
        "  mel=librosa.power_to_db(mel,ref=np.max)\n",
        "\n",
        "  if mel.shape[1] > 128:\n",
        "    mel = mel[:, :128]\n",
        "  else:\n",
        "    padding = np.zeros((mel.shape[0], 128- mel.shape[1]))\n",
        "    mel = np.concatenate((mel, padding), axis=1)\n",
        "  mel=np.expand_dims(mel,axis=-1)\n",
        "  return mel,np.where(labels==l.numpy()[0].decode(\"utf-8\"))\n",
        "\n",
        "general_ds=general_ds.map(deconstruct)\n",
        "general_ds=general_ds.map(audio_mapper)\n",
        "general_ds=general_ds.batch(32)\n",
        "\n",
        "[x for x in general_ds.take(1)]"
      ],
      "metadata": {
        "id": "yYLw5FmhHrVl"
      },
      "execution_count": null,
      "outputs": []
    },
    {
      "cell_type": "code",
      "source": [
        "input_shape=[x[0].shape for x in train_spectrogram_ds.take(1)][0][1:]"
      ],
      "metadata": {
        "id": "oYckOG9j2WlP"
      },
      "execution_count": null,
      "outputs": []
    },
    {
      "cell_type": "code",
      "source": [
        "input_shape=[x[0].shape for x in general_ds.take(1)][0][1:]"
      ],
      "metadata": {
        "id": "jn5JqvamzTJ4"
      },
      "execution_count": null,
      "outputs": []
    },
    {
      "cell_type": "code",
      "source": [
        "model.evaluate(test_spectrogram_ds)"
      ],
      "metadata": {
        "colab": {
          "base_uri": "https://localhost:8080/"
        },
        "id": "HBjoTZ-tEEM3",
        "outputId": "5598088e-3cd7-48cd-a73a-96fad3c534b3"
      },
      "execution_count": null,
      "outputs": [
        {
          "output_type": "stream",
          "name": "stdout",
          "text": [
            "5/5 [==============================] - 7s 1s/step - loss: 0.7542 - acc: 0.7761\n"
          ]
        },
        {
          "output_type": "execute_result",
          "data": {
            "text/plain": [
              "[0.7541658878326416, 0.7761194109916687]"
            ]
          },
          "metadata": {},
          "execution_count": 17
        }
      ]
    },
    {
      "cell_type": "code",
      "source": [
        "g_ds=GeneralDS(\"datasets/TinySOL_metadata.csv\",audio_dir)\n",
        "g_ds=tf.data.Dataset.from_tensor_slices(g_ds)"
      ],
      "metadata": {
        "id": "L80HBvEFYIKV"
      },
      "execution_count": null,
      "outputs": []
    }
  ]
}